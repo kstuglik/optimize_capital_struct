{
 "cells": [
  {
   "cell_type": "code",
   "execution_count": 10,
   "metadata": {},
   "outputs": [],
   "source": [
    "import numpy as np # linear algebra\n",
    "import pandas as pd # data processing, CSV file I/O (e.g. pd.read_csv)\n",
    "from sklearn.preprocessing import StandardScaler # Used for scaling of data\n",
    "from sklearn.model_selection import train_test_split\n",
    "from keras.models import Sequential\n",
    "from keras.layers import Dense, Dropout, BatchNormalization\n",
    "from keras import metrics\n",
    "import seaborn as sns\n",
    "import matplotlib.pyplot as plt\n",
    "from keras import backend as K\n",
    "from keras.wrappers.scikit_learn import KerasRegressor\n",
    "from keras import optimizers\n",
    "from keras.layers.recurrent import LSTM\n",
    "\n",
    "from sklearn.preprocessing import MinMaxScaler\n",
    "from sklearn.preprocessing import minmax_scale\n",
    "from sklearn.preprocessing import MaxAbsScaler\n",
    "from sklearn.preprocessing import StandardScaler\n",
    "from sklearn.preprocessing import RobustScaler\n",
    "from sklearn.preprocessing import Normalizer\n",
    "from sklearn.preprocessing import QuantileTransformer\n",
    "from sklearn.preprocessing import PowerTransformer"
   ]
  },
  {
   "cell_type": "code",
   "execution_count": 33,
   "metadata": {},
   "outputs": [
    {
     "name": "stdout",
     "output_type": "stream",
     "text": [
      "        P0   P1      P2       P3   P4       P5        P6  P7   P8       P9  \\\n",
      "0 -16.5188  0.0  0.0000 -14.0580  0.0 -14.1809    0.1889   0  0.0   0.0000   \n",
      "1   6.2368  0.0  0.0000   6.2369  0.0   0.0000   -9.7638   0  0.0   3.3564   \n",
      "2   4.0538  0.0  0.0000   4.0542  0.0   5.2306    3.7967   0  0.0 -79.1406   \n",
      "3  -1.7711  0.0  0.0000  -1.7709  0.0   0.0000    1.8510   0  0.0   4.0350   \n",
      "4 -22.3439  0.0 -8.7759  63.0866  0.0 -22.3440  104.5974   0  0.0   0.0000   \n",
      "\n",
      "   ...  P20  P21      P22       P23      P24      P25      P26       P27  P28  \\\n",
      "0  ...  0.0  0.0  12.9624   32.4263 -15.1324   0.0000   0.0000    0.0000  0.0   \n",
      "1  ...  0.0  0.0  12.5045  -80.1280  28.0114   0.0000   5.7887  380.6269  0.0   \n",
      "2  ...  0.0  0.0  -2.9816   15.0000   0.0000 -76.8382   0.0000  -11.7061  0.0   \n",
      "3  ...  0.0  0.0 -53.6480    0.0000   0.0000   0.0000 -10.6808    0.0000  0.0   \n",
      "4  ...  0.0  0.0 -23.5491  521.4029   0.0000 -35.8581   0.0000    0.0000  0.0   \n",
      "\n",
      "        P29  \n",
      "0   -4.1880  \n",
      "1    0.0000  \n",
      "2  -22.8804  \n",
      "3  141.8838  \n",
      "4   -8.8514  \n",
      "\n",
      "[5 rows x 30 columns]\n"
     ]
    }
   ],
   "source": [
    "df_train = pd.read_csv(\"../csv/all_small_vectors.csv\", names=[ \n",
    "    'P0','P1','P2','P3','P4','P5','P6','P7','P8',      \n",
    "    'P9','P10','P11','P12','P13','P14','P15','P16', \n",
    "    'P17','P18','P19','P20','P21','P22','P23','P24', \n",
    "    'P25','P26','P27','P28','P29'], header=None)\n",
    "\n",
    "\n",
    "print(df_train.head())\n",
    "df_train = pd.get_dummies(df_train)\n",
    "#filling NA's with the mean of the column:\n",
    "df_train = df_train.fillna(df_train.mean())\n",
    "\n",
    "X_train = df_train[['P0','P1','P2','P3','P4','P5','P6','P7','P8','P9','P10','P11','P12','P13',\\\n",
    "                    'P14','P15','P16','P17','P18','P19','P20','P21','P22','P23','P24','P25','P26','P27','P28']]\n",
    "\n",
    "X_train = MaxAbsScaler().fit_transform(X_train)\n",
    "\n",
    "y = df_train['P29'].values\n",
    "\n",
    "def create_model():\n",
    "    # create model \n",
    "    \n",
    "    model = Sequential()\n",
    "    model.add(Dense(12, input_dim=29, activation='tanh'))\n",
    "    model.add(Dropout(0.1))\n",
    "    model.add(Dense(8, activation='tanh'))\n",
    "    model.add(Dropout(0.5))\n",
    "    model.add(Dense(2, activation='tanh'))\n",
    "    model.add(Dropout(0.8))\n",
    "    model.add(Dense(1,activation='tanh'))\n",
    "    # Compile model\n",
    "    \n",
    "    model.compile( \n",
    "        loss = 'binary_crossentropy', \n",
    "        metrics =['acc'],\n",
    "        optimizer='rmsprop', \n",
    "    )\n",
    "    return model"
   ]
  },
  {
   "cell_type": "code",
   "execution_count": 34,
   "metadata": {},
   "outputs": [
    {
     "name": "stdout",
     "output_type": "stream",
     "text": [
      "833\n",
      "0.064\n",
      "WARNING:tensorflow:Large dropout rate: 0.8 (>0.5). In TensorFlow 2.x, dropout() uses dropout rate instead of keep_prob. Please ensure that this is intended.\n",
      "Model: \"sequential_3\"\n",
      "_________________________________________________________________\n",
      "Layer (type)                 Output Shape              Param #   \n",
      "=================================================================\n",
      "dense_9 (Dense)              (None, 12)                360       \n",
      "_________________________________________________________________\n",
      "dropout_7 (Dropout)          (None, 12)                0         \n",
      "_________________________________________________________________\n",
      "dense_10 (Dense)             (None, 8)                 104       \n",
      "_________________________________________________________________\n",
      "dropout_8 (Dropout)          (None, 8)                 0         \n",
      "_________________________________________________________________\n",
      "dense_11 (Dense)             (None, 2)                 18        \n",
      "_________________________________________________________________\n",
      "dropout_9 (Dropout)          (None, 2)                 0         \n",
      "_________________________________________________________________\n",
      "dense_12 (Dense)             (None, 1)                 3         \n",
      "=================================================================\n",
      "Total params: 485\n",
      "Trainable params: 485\n",
      "Non-trainable params: 0\n",
      "_________________________________________________________________\n"
     ]
    }
   ],
   "source": [
    "seed = 30\n",
    "np.random.seed(seed)\n",
    "\n",
    "\n",
    "w = [12,8,2,1]\n",
    "# w = [12,8,1]\n",
    "suma = 0\n",
    "for i in range(len(w)):\n",
    "    if i == 0:\n",
    "        suma += w[0]*59\n",
    "    elif i != len(w)-1:\n",
    "        suma += w[i]*(w[i-1]+1)\n",
    "    else:\n",
    "        suma += w[i-1]+w[i]\n",
    "#     print(suma)\n",
    "        \n",
    "srednia = suma/1228\n",
    "wycznacz_podzial =  round(1-srednia,2)*0.2\n",
    "\n",
    "\n",
    "print(suma)\n",
    "print(wycznacz_podzial)\n",
    "\n",
    "X_train, X_test, y_train, y_test = train_test_split(X_train, y, test_size=wycznacz_podzial, random_state=seed)\n",
    "\n",
    "model = create_model()\n",
    "model.summary()\n",
    "\n",
    "\n",
    "from keras.callbacks import EarlyStopping, ModelCheckpoint\n",
    "\n",
    "# Set callback functions to early stop training and save the best model so far\n",
    "callbacks = [EarlyStopping(monitor='val_loss', patience=1)]\n",
    "#     ModelCheckpoint(filepath='best_model.h5', monitor='accuracy', save_best_only=True)]\n",
    "\n",
    "\n",
    "#Porzucono wariant z wagami - mozna probowac\n",
    "# from sklearn.utils import class_weight\n",
    "# class_weights = class_weight.compute_class_weight('balanced',np.unique(y_train),y_train)\n",
    "# from pprint import pprint\n",
    "# pprint(class_weights)"
   ]
  },
  {
   "cell_type": "code",
   "execution_count": 36,
   "metadata": {},
   "outputs": [],
   "source": [
    "from keras.utils import plot_model\n",
    "from contextlib import redirect_stdout\n",
    "\n",
    "from datetime import datetime\n",
    "from pathlib import Path\n",
    "Path('schemat/').mkdir(parents=True, exist_ok=True)\n",
    "\n",
    "try:\n",
    "    plot_model(model, to_file='schemat/model.png')\n",
    "except:\n",
    "    print(e)\n",
    "\n",
    "try:\n",
    "    with open('schemat/modelsummary.txt', 'w') as f:\n",
    "        with redirect_stdout(f):\n",
    "            model.summary()\n",
    "except:\n",
    "    print(e)"
   ]
  },
  {
   "cell_type": "code",
   "execution_count": 37,
   "metadata": {},
   "outputs": [
    {
     "name": "stdout",
     "output_type": "stream",
     "text": [
      "Train on 1149 samples, validate on 79 samples\n",
      "Epoch 1/15\n",
      "1149/1149 [==============================] - 0s 401us/step - loss: 143.2374 - acc: 0.0113 - val_loss: -56.5685 - val_acc: 0.0000e+00\n",
      "Epoch 2/15\n",
      "1149/1149 [==============================] - 0s 93us/step - loss: 143.9792 - acc: 0.0113 - val_loss: -56.5685 - val_acc: 0.0000e+00\n",
      "Epoch 3/15\n",
      "1149/1149 [==============================] - 0s 96us/step - loss: 147.3778 - acc: 0.0122 - val_loss: -56.5685 - val_acc: 0.0000e+00\n",
      "Epoch 4/15\n",
      "1149/1149 [==============================] - 0s 67us/step - loss: 121.8379 - acc: 0.0122 - val_loss: -52.2107 - val_acc: 0.0000e+00\n",
      "Epoch 5/15\n",
      "1149/1149 [==============================] - 0s 88us/step - loss: 122.3817 - acc: 0.0104 - val_loss: -52.1493 - val_acc: 0.0000e+00\n",
      "Epoch 6/15\n",
      "1149/1149 [==============================] - 0s 116us/step - loss: 72.2778 - acc: 0.0113 - val_loss: -51.8529 - val_acc: 0.0000e+00\n",
      "Epoch 7/15\n",
      "1149/1149 [==============================] - 0s 97us/step - loss: 93.8011 - acc: 0.0113 - val_loss: -58.2610 - val_acc: 0.0000e+00\n",
      "Epoch 8/15\n",
      "1149/1149 [==============================] - 0s 44us/step - loss: 66.4995 - acc: 0.0104 - val_loss: -51.8599 - val_acc: 0.0000e+00\n",
      "Epoch 9/15\n",
      "1149/1149 [==============================] - 0s 48us/step - loss: 60.5384 - acc: 0.0122 - val_loss: -51.8582 - val_acc: 0.0000e+00\n",
      "Epoch 10/15\n",
      "1149/1149 [==============================] - 0s 49us/step - loss: 59.1295 - acc: 0.0122 - val_loss: -47.0517 - val_acc: 0.0000e+00\n",
      "Epoch 11/15\n",
      "1149/1149 [==============================] - 0s 45us/step - loss: 45.1592 - acc: 0.0104 - val_loss: -9.2240 - val_acc: 0.0000e+00\n",
      "Epoch 12/15\n",
      "1149/1149 [==============================] - 0s 58us/step - loss: 20.0876 - acc: 0.0122 - val_loss: -10.5261 - val_acc: 0.0000e+00\n",
      "Epoch 13/15\n",
      "1149/1149 [==============================] - 0s 58us/step - loss: 43.8530 - acc: 0.0104 - val_loss: -10.6590 - val_acc: 0.0000e+00\n",
      "Epoch 14/15\n",
      "1149/1149 [==============================] - 0s 55us/step - loss: 115.0256 - acc: 0.0104 - val_loss: -9.2540 - val_acc: 0.0000e+00\n",
      "Epoch 15/15\n",
      "1149/1149 [==============================] - 0s 61us/step - loss: 117.5812 - acc: 0.0087 - val_loss: -11.5121 - val_acc: 0.0000e+00\n"
     ]
    }
   ],
   "source": [
    "history = model.fit(\n",
    "    X_train, y_train, \n",
    "    validation_data=(X_test,y_test), \n",
    "    epochs=15, \n",
    "    batch_size=50,\n",
    ")"
   ]
  },
  {
   "cell_type": "code",
   "execution_count": 38,
   "metadata": {},
   "outputs": [
    {
     "data": {
      "image/png": "[encoded data removed]",
      "text/plain": [
       "<Figure size 1440x720 with 1 Axes>"
      ]
     },
     "metadata": {
      "needs_background": "light"
     },
     "output_type": "display_data"
    },
    {
     "data": {
      "image/png": "[encoded data removed]",
      "text/plain": [
       "<Figure size 1440x720 with 1 Axes>"
      ]
     },
     "metadata": {
      "needs_background": "light"
     },
     "output_type": "display_data"
    },
    {
     "name": "stdout",
     "output_type": "stream",
     "text": [
      "[29.347467912187568, 0.0121845081448555]\n",
      "acc: 1.22%\n",
      "[-11.512112907216519, 0.0]\n",
      "acc: 0.00%\n",
      "EXPECTED\tRECEIVED\tx100\n",
      "  -30.0038\t   -0.8037\t  -80.3677\n",
      "  +80.5970\t   -0.6356\t  -63.5585\n",
      "  -64.9701\t   -0.3292\t  -32.9213\n",
      "  -27.5413\t   +0.1676\t  +16.7620\n",
      "   -2.1186\t   -0.3836\t  -38.3568\n",
      "  -36.5514\t   -0.1890\t  -18.8997\n",
      "  -14.4238\t   +0.0482\t   +4.8156\n",
      "  -25.2019\t   +0.7692\t  +76.9219\n",
      "  -64.3715\t   -0.4227\t  -42.2705\n",
      "  -60.2934\t   -0.6074\t  -60.7394\n",
      "   +2.1956\t   -0.7459\t  -74.5911\n",
      "   -4.1880\t   +0.8328\t  +83.2797\n"
     ]
    }
   ],
   "source": [
    "plt.rcParams[\"figure.figsize\"] = (20,10)\n",
    "# summarize history for accuracy\n",
    "plt.plot(history.history['acc'])\n",
    "plt.plot(history.history['val_acc'])\n",
    "plt.title('model accuracy')\n",
    "plt.ylabel('accuracy')\n",
    "plt.xlabel('epoch')\n",
    "plt.legend(['train', 'test'], loc='upper left')\n",
    "plt.show()\n",
    "# summarize history for loss\n",
    "plt.plot(history.history['loss'])\n",
    "plt.plot(history.history['val_loss'])\n",
    "plt.title('model loss')\n",
    "plt.ylabel('loss')\n",
    "plt.xlabel('epoch')\n",
    "plt.legend(['train', 'test'], loc='upper left')\n",
    "plt.show()\n",
    "\n",
    "\n",
    "scores = model.evaluate(X_train, y_train, verbose=0) \n",
    "print(scores)\n",
    "print(\"acc: %.2f%%\" % (scores[1]*100))\n",
    "scores = model.evaluate(X_test, y_test, verbose=0) \n",
    "print(scores)\n",
    "print(\"acc: %.2f%%\" % (scores[1]*100))\n",
    "\n",
    "\n",
    "\n",
    "d1 = np.array([48.4131,0.0000,0.0000,48.4134,-1035.3488,48.4097,-40.4730,0.0000,0.0000,-48.2638,0.0000,0.0000,0.0000,55.2165,42.0915,33.6905,0.0000,0.0000,0.0000,-62.8770,0.0000,-34.9827,-44.3053,38.8720,-50.0160,-51.5453,-94.2426,0.0000,0.0000])\n",
    "d2 = np.array([-37.0052,0.0000,0.0000,-37.0050,0.0000,0.0000,65.2752,0.0000,0.0000,0.0000,0.0000,0.0000,0.0000,-94.1176,1488.1931,0.0000,0.0000,0.0000,0.0000,0.0000,0.0000,0.0000,878.0369,-69.0890,0.0000,0.0000,-57.9931,-60.4913,0.0000])\n",
    "d3 = np.array([-11.4117,0.0000,11.5566,-2.1732,-11.9212,0.0000,-172.8720,0.0000,0.0000,0.0000,0.0000,0.0000,0.0000,0.0000,0.0000,0.0000,-31.3004,0.0000,0.0000,9.6880,0.0000,0.0000,36.8956,-1.8579,38.5352,-16.2803,1.2568,-9.3780,0.0000])\n",
    "d4 = np.array([-27.5505,0.0000,27.5474,-27.5522,0.0000,0.0000,-27.0744,0.0000,0.0000,-5.6760,0.0000,0.0000,0.0000,-16.1936,0.0000,-45.6252,-43.2488,0.0000,0.0000,9.9941,0.0000,0.0000,99.6342,-29.2064,0.0000,-45.2905,-47.0522,0.0000,0.0000])\n",
    "d5 = np.array([1.1984,0.0000,0.0000,1.1970,0.0000,-0.1155,-12.6190,0.0000,0.0000,-8.0022,0.0000,0.0000,0.0000,7.0157,0.0000,0.0000,0.0000,0.0000,0.0000,18.4047,0.0000,0.0000,1.4375,25.2092,0.0000,135.7621,0.0000,0.0000,0.0000])\n",
    "d6 = np.array([44.1597,0.0000,0.0000,44.1595,44.1756,0.0000,-49.9617,0.0000,0.0000,-70.8841,0.0000,0.0000,0.0000,0.0000,0.0000,45.0450,43.4849,0.0000,0.0000,181.2090,0.0000,0.0000,26.5169,0.0000,0.0000,269.1953,0.0000,0.0000,0.0000])\n",
    "d7 = np.array([3.9709,0.0000,0.0000,-41.2864,0.0000,0.0000,8.4048,0.0000,0.0000,-67.8837,0.0000,0.0000,0.0000,0.0000,7.4190,383.3333,0.0000,-0.2236,0.0000,357.2392,0.0000,0.0000,60.4982,0.0000,272.3150,424.0172,0.0000,-4.3828,0.0000])\n",
    "d8 = np.array([0.2133,0.0000,0.0000,7.1604,-0.0446,0.0000,176.2257,0.0000,0.0000,-37.6446,0.0000,0.0000,0.0000,-27.9808,-27.5544,0.0000,-13.6310,-9.9795,0.0000,-26.0907,0.0000,0.0000,-21.9263,19.4134,0.0000,-15.4321,21.1427,0.0509,0.0000])\n",
    "d9 = np.array([-0.5255,0.0000,0.0000,-2.0148,0.0000,0.0000,-2372.0864,0.0000,0.0000,-98.1872,0.0000,0.0000,0.0000,2.1720,-37.4547,0.0000,0.0000,0.0000,0.0000,395.2508,0.0000,0.0000,-8.8732,3.7282,11.9422,36.5752,1118.8649,187.5000,0.0000])\n",
    "d10 = np.array([114.3991,0.0000,0.0000,0.0000,0.0000,168.4171,-114.7866,0.0000,0.0000,253.6101,0.0000,0.0000,0.0000,0.0000,0.0000,0.0000,0.0000,0.0000,0.0000,216.5577,0.0000,0.0000,99.0300,0.0000,0.0000,232.8381,0.0000,0.0000,0.0000])\n",
    "d11 = np.array([-13.0559,0.0000,0.0000,320.2904,0.0000,0.0000,-49.8086,0.0000,0.0000,-48.2662,0.0000,0.0000,0.0000,10.8582,-62.1501,0.0000,0.0000,0.0000,0.0000,201.1481,0.0000,0.0000,104.5713,0.0000,-50.2799,-41.9420,81.6304,-26.9126,0.0000])\n",
    "ztreningu = np.array([-16.5188,0.0000,0.0000,-14.0580,0.0000,-14.1809,0.1889,0.0000,0.0000,0.0000,0.0000,0.0000,0.0000,0.0000,-48.2489,0.0000,0.0000,0.0000,0.0000,-50.1146,0.0000,0.0000,12.9624,32.4263,-15.1324,0.0000,0.0000,0.0000,0.0000])\n",
    "\n",
    "\n",
    "expected = [-30.0038,80.5970,-64.9701,-27.5413,-2.1186,-36.5514,-14.4238,-25.2019,-64.3715,-60.2934,2.1956,-4.1880]\n",
    "i=0\n",
    "\n",
    "print('EXPECTED\\tRECEIVED\\tx100')\n",
    "for data in [d1,d2,d3,d4,d5,d6,d7,d8,d9,d10,d11,ztreningu]:\n",
    "    znak = 1\n",
    "    received=model.predict(data.reshape(1,29),batch_size =1)[0][0]\n",
    "    print('%+10.4f\\t%+10.4f\\t%+10.4f'%(expected[i],received,received*100))\n",
    "    i+=1\n",
    "\n",
    "# col_width = 10  # padding\n",
    "# for row in data:\n",
    "#     print (row.rjust(50, '0'))"
   ]
  },
  {
   "cell_type": "code",
   "execution_count": 40,
   "metadata": {},
   "outputs": [
    {
     "name": "stdout",
     "output_type": "stream",
     "text": [
      "Saved model to disk\n"
     ]
    }
   ],
   "source": [
    "Path('saved_models').mkdir(parents=True, exist_ok=True)\n",
    "                          \n",
    "outputfilename = 'saved_models/vec29B_'+ str(datetime.now().strftime('%H:%M:%S'))\n",
    "# serialize model to JSON\n",
    "model_json = model.to_json()\n",
    "with open(outputfilename+\".json\", \"w\") as json_file:\n",
    "    json_file.write(model_json)\n",
    "# serialize weights to HDF5\n",
    "model.save_weights(outputfilename+\".h5\")\n",
    "print(\"Saved model to disk\")"
   ]
  },
  {
   "cell_type": "code",
   "execution_count": 42,
   "metadata": {},
   "outputs": [],
   "source": [
    "# Testy z uzyciem skalera MaxAbsScaler\n",
    "\n",
    "# from sklearn.preprocessing import MaxAbsScaler\n",
    "# X = np.array([[ -0.5,1,1.2,-.6,1.1,1.6,1.,-6]])\n",
    "# print(X)\n",
    "# X = MaxAbsScaler().fit_transform(X)\n",
    "# print(X)"
   ]
  },
  {
   "cell_type": "code",
   "execution_count": 43,
   "metadata": {},
   "outputs": [],
   "source": [
    "# from sklearn.preprocessing import MaxAbsScaler\n",
    "# X = np.array([[1.1984,0.0000,0.0000,1.1970,0.0000,-0.1155,-12.6190,0.0000,0.0000,-8.0022,0.0000,0.0000,0.0000,7.0157,0.0000,0.0000,0.0000,0.0000,0.0000,18.4047,0.0000,0.0000,1.4375,25.2092,0.0000,135.7621,0.0000,0.0000,0.0000,-2.1186]])\n",
    "# from pprint import pprint\n",
    "# pprint(X)\n",
    "# X = MaxAbsScaler().fit_transform(X)\n",
    "# pprint(X)"
   ]
  },
  {
   "cell_type": "code",
   "execution_count": null,
   "metadata": {},
   "outputs": [],
   "source": []
  },
  {
   "cell_type": "code",
   "execution_count": null,
   "metadata": {},
   "outputs": [],
   "source": []
  }
 ],
 "metadata": {
  "kernelspec": {
   "display_name": "Python 3",
   "language": "python",
   "name": "python3"
  },
  "language_info": {
   "codemirror_mode": {
    "name": "ipython",
    "version": 3
   },
   "file_extension": ".py",
   "mimetype": "text/x-python",
   "name": "python",
   "nbconvert_exporter": "python",
   "pygments_lexer": "ipython3",
   "version": "3.7.4"
  }
 },
 "nbformat": 4,
 "nbformat_minor": 2
}
