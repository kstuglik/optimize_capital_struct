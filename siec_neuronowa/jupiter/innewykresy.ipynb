{
 "cells": [
  {
   "cell_type": "code",
   "execution_count": null,
   "metadata": {},
   "outputs": [],
   "source": [
    "#https://www.kaggle.com/hugosjoberg/house-prices-prediction-using-keras\n",
    "\n",
    "# import numpy as np # linear algebra\n",
    "# import pandas as pd # data processing, CSV file I/O (e.g. pd.read_csv)\n",
    "# from sklearn.preprocessing import StandardScaler # Used for scaling of data\n",
    "# from sklearn.model_selection import train_test_split\n",
    "# from keras.models import Sequential\n",
    "# from keras.layers import Dense, Dropout\n",
    "# from keras import metrics\n",
    "# import seaborn as sns\n",
    "# import matplotlib.pyplot as plt\n",
    "# from keras import backend as K\n",
    "# from keras.wrappers.scikit_learn import KerasRegressor\n",
    "\n",
    "# # if dim == 29:\n",
    "# #     df_train = pd.read_csv(\"../xlsx/combine_vector.csv\", names=['P0','P1','P2','P3','P4','P5','P6','P7','P8','P9','P10','P11','P12','P13','P14','P15','P16','P17','P18','P19','P20','P21','P22','P23','P24','P25','P26','P27','P28','P29'], header=None)\n",
    "    \n",
    "# # #     X = df_train.drop('P29', axis=1)\n",
    "# # #     y = df_train['P29']\n",
    "\n",
    "# # if dim == 58:\n",
    "# df_train = pd.read_csv(\"../xlsx/combine_pasywa_vector.csv\", names=[\\\n",
    "#                                                                   'P0','P1','P2','P3','P4','P5','P6','P7',\n",
    "#                                                                   'P8','P9','P10','P11','P12','P13','P14','P15',\n",
    "#                                                                   'P16','P17','P18','P19','P20','P21','P22','P23',\n",
    "#                                                                   'P24','P25','P26','P27','P28','P29','P30','P31',\n",
    "#                                                                   'P32','P33','P34','P35','P36','P37','P38','P39',\n",
    "#                                                                   'P40','P41','P42','P43','P44','P45','P46','P47',\n",
    "#                                                                   'P48','P49','P50','P51','P52','P53','P54','P55',\n",
    "#                                                                   'P56','P57','P58'], header=None)\n",
    "# #     X = df_train.drop('P58', axis=1)\n",
    "# #     y = df_train['P58']\n",
    "    \n",
    "# # print(df_train.head(10))\n",
    "\n",
    "# df_train = df_train.fillna(0)\n",
    "\n",
    "# # X = df_train.loc[:, df_train.columns != 'P29']\n",
    "# # y = df_train.loc[:, df_train.columns == 'P29']"
   ]
  },
  {
   "cell_type": "code",
   "execution_count": null,
   "metadata": {},
   "outputs": [],
   "source": [
    "# sns.distplot(df_train['P58'])"
   ]
  },
  {
   "cell_type": "code",
   "execution_count": null,
   "metadata": {},
   "outputs": [],
   "source": [
    "# print(\"Skewness: %f\" % df_train['P58'].skew())\n",
    "# print(\"Kurtosis: %f\" % df_train['P58'].kurt())"
   ]
  },
  {
   "cell_type": "code",
   "execution_count": null,
   "metadata": {},
   "outputs": [],
   "source": [
    "# corrmat = df_train.corr()\n",
    "# f, ax = plt.subplots(figsize=(15, 12))\n",
    "# sns.heatmap(corrmat, vmax=.8, square=True);"
   ]
  },
  {
   "cell_type": "code",
   "execution_count": null,
   "metadata": {},
   "outputs": [],
   "source": [
    "# #market value correlation matrix\n",
    "# f, ax = plt.subplots(figsize=(15, 12))\n",
    "# k = 15 #number of variables for heatmap\n",
    "# cols = corrmat.nlargest(k, 'P58')['P58'].index\n",
    "# cm = np.corrcoef(df_train[cols].values.T)\n",
    "# sns.set(font_scale=1)\n",
    "# hm = sns.heatmap(cm, cbar=True, annot=True, square=True, fmt='.2f', annot_kws={'size': 6}, yticklabels=cols.values,linewidths=0.1, xticklabels=cols.values)\n",
    "# plt.show()"
   ]
  },
  {
   "cell_type": "code",
   "execution_count": null,
   "metadata": {},
   "outputs": [],
   "source": [
    "# df_train = df_train.fillna(df_train.mean())"
   ]
  },
  {
   "cell_type": "code",
   "execution_count": null,
   "metadata": {},
   "outputs": [],
   "source": [
    "#standardizing data\n",
    "# marketprice_scaled = StandardScaler().fit_transform(df_train['P58'][:,np.newaxis]);\n",
    "# low_range = marketprice_scaled[marketprice_scaled[:,0].argsort()][:10]\n",
    "# high_range= marketprice_scaled[marketprice_scaled[:,0].argsort()][-10:]\n",
    "# print('outer range (low) of the distribution:')\n",
    "# print(low_range)\n",
    "# print('\\nouter range (high) of the distribution:')\n",
    "# print(high_range)"
   ]
  }
 ],
 "metadata": {
  "kernelspec": {
   "display_name": "Python 3",
   "language": "python",
   "name": "python3"
  },
  "language_info": {
   "codemirror_mode": {
    "name": "ipython",
    "version": 3
   },
   "file_extension": ".py",
   "mimetype": "text/x-python",
   "name": "python",
   "nbconvert_exporter": "python",
   "pygments_lexer": "ipython3",
   "version": "3.7.4"
  }
 },
 "nbformat": 4,
 "nbformat_minor": 2
}
